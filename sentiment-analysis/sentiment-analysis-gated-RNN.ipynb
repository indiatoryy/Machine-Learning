{
  "nbformat": 4,
  "nbformat_minor": 0,
  "metadata": {
    "colab": {
      "provenance": []
    },
    "kernelspec": {
      "name": "python3",
      "display_name": "Python 3"
    },
    "accelerator": "GPU"
  },
  "cells": [
    {
      "cell_type": "markdown",
      "metadata": {
        "id": "pVN4WugaW3cX"
      },
      "source": [
        "**You need to submit 2 things:**\n",
        "- On **Crowdmark**, answers to each question:\n",
        " - for questions without code, as usual (you can take a screenshot of your answer in the colab cell or write it down on a separate medium)\n",
        " - for questions with code, take a screenshot of the code and upload it to Crowdmark \n",
        "- On **Quercus**, submit a ipynb file with your entire code"
      ]
    },
    {
      "cell_type": "markdown",
      "metadata": {
        "id": "ZR8lgUtid_LW"
      },
      "source": [
        "# **Sentiment Analysis Using Gated-Recurrent Neural Networks**"
      ]
    },
    {
      "cell_type": "markdown",
      "metadata": {
        "id": "t80pI50xXA9k"
      },
      "source": [
        "In this assignment, we will use the IMDB dataset that contains the text of 50,000 movie reviews from the Internet Movie Database (IMDB) website. The label of each movie review is either positive or negative. An example of the input-output pair in this dataset is\n",
        "\n",
        "\"*I happen to run into this movie one night so I decided to watch it ! I was very pleased with the movie ... I thought it was a wonderful plot . It 's a great feeling knowing a deceased one has come back and you get that second chance to say what you want to say ! And this wife stayed devoted for 23 years ! ! ! I thought it was a great movie ! !*\"\n",
        "\n",
        "where its label, as you might expect, is \n",
        "\"*positive*\".\n",
        "\n",
        "**In this assignment, we want to design a classifier that takes as input a review and outputs whether it is a positive or negative review about a movie.**"
      ]
    },
    {
      "cell_type": "markdown",
      "metadata": {
        "id": "thJ5icP7dRCI"
      },
      "source": [
        "In the next two cells, we import some modules and also fix some constants for our implementation. "
      ]
    },
    {
      "cell_type": "code",
      "metadata": {
        "id": "RwrDq8LeQyR-"
      },
      "source": [
        "import csv\n",
        "from typing import Callable, Tuple\n",
        "\n",
        "import jax.numpy as jn\n",
        "import matplotlib.pyplot as plt\n",
        "import numpy as np\n",
        "from jax import lax\n",
        "from keras_preprocessing.sequence import pad_sequences\n",
        "from keras.preprocessing.text import Tokenizer\n",
        "from tqdm import trange\n",
        "from sklearn.model_selection import train_test_split\n",
        "%pip --quiet install objax\n",
        "import objax\n",
        "from objax.typing import JaxArray\n",
        "\n",
        "\n",
        "objax.random.DEFAULT_GENERATOR.seed(42)\n",
        "np.random.seed(42)"
      ],
      "execution_count": null,
      "outputs": []
    },
    {
      "cell_type": "code",
      "metadata": {
        "colab": {
          "base_uri": "https://localhost:8080/"
        },
        "id": "7cNIqe-qZA42",
        "outputId": "8a4e1a19-d691-467e-acbc-6d7db0840d01"
      },
      "source": [
        "!gdown --id 11r58MB8wRBO1o1gEC-zxiADZIuwMnhf7"
      ],
      "execution_count": null,
      "outputs": [
        {
          "output_type": "stream",
          "name": "stdout",
          "text": [
            "/usr/local/lib/python3.8/dist-packages/gdown/cli.py:127: FutureWarning: Option `--id` was deprecated in version 4.3.1 and will be removed in 5.0. You don't need to pass it anymore to use a file ID.\n",
            "  warnings.warn(\n",
            "Downloading...\n",
            "From: https://drive.google.com/uc?id=11r58MB8wRBO1o1gEC-zxiADZIuwMnhf7\n",
            "To: /content/IMDB Dataset.csv\n",
            "100% 66.2M/66.2M [00:00<00:00, 373MB/s]\n"
          ]
        }
      ]
    },
    {
      "cell_type": "code",
      "metadata": {
        "id": "ufQiSTpAQ20y"
      },
      "source": [
        "max_vocab = 2000  # this parameter is for the maximum number of words in the \"dictionary\"\n",
        "max_len = 200  # maximum length of each review\n",
        "embedding_size = 30  # size of embedding\n",
        "num_hidden_units_GRU = 30  # GRU cells in the RNN layer\n",
        "num_hidden_units = 60  # hidden unit of dense network after GRU\n",
        "\n",
        "vocab_size = max_vocab\n",
        "filename = 'IMDB Dataset.csv'"
      ],
      "execution_count": null,
      "outputs": []
    },
    {
      "cell_type": "markdown",
      "metadata": {
        "id": "9Dv2MIgJvEHs"
      },
      "source": [
        "# How to find a representation of sentences?\n",
        "In order to put the words into the machine learning algorithm the text data should be converted into a vector representation. The first approach that comes to mind is *one hot encoding*.\n",
        " # One Hot Encoding\n",
        "Assume that we count the number of english words in the Merriam-Webster dictionary, and it turns out that the total number of words is $N$. Then, a possible way to represent the words is to use binary vectors of size $N$. Each integer value is represented as a binary vector that is all zero values except the index of the integer, which is marked with a $1$.\n",
        "As an example let's say all the words in the dictionary consists of $\\{$apple, orange, Milan,Rome$\\}$. For this example, the one hot encoding is given by:\n",
        " \n",
        "apple = $[1,0,0,0]$ \\\\\n",
        "orange = $[0,1,0,0]$ \\\\\n",
        "Milan = $[0,0,1,0]$  \\\\\n",
        "Rome = $[0,0,0,1]$\n",
        " \n",
        "We can also represent each word by an integer: for instance in the above-mentioned example, the mapping is apple $\\rightarrow$ 1, orange $\\rightarrow$ 2, Milan $\\rightarrow$ 3,  Rome $\\rightarrow$ 4.\n",
        " \n",
        "\n"
      ]
    },
    {
      "cell_type": "markdown",
      "metadata": {
        "id": "BoJzD3ao1BIx"
      },
      "source": [
        "When we are working with a dataset, a practical approach for one-hot encoding of the data is as follows:\n",
        " \n",
        "1.  First, we can create a dictionary which shows each word along with its frequency in the dataset. For example, if the sentence is \"Put the books on the table.\" , we need to create a dictionary such that word_index[\"Put\"] = 1; word_index[\"the\"] = 2; word_index[\"books\"] = 1; word_index[\"on\"] = 1; word_index[\"table\"] = 1.\n",
        "2.  Second, based on the maximum size of the vocabulary we want, we can sort the words based on their frequency and only pick the most frequent words of this maximum size of the vocabulary, and this creates our dictionary. So lower integer means more frequent word (often the first few are stop words because they appear a lot)\n",
        " \n",
        "3. Then, we can assign an integer to each word in the dictionary, and represent each sentence as a sequence of integers.\n",
        " \n",
        " \n",
        "The following function performs the above-mentioned steps for our IMDB dataset.\n",
        "\n"
      ]
    },
    {
      "cell_type": "code",
      "metadata": {
        "id": "dxUaZTtjFMBU"
      },
      "source": [
        "def data_processing(filename, max_vocab, max_len):\n",
        "  # filename: the name of the .csv file\n",
        "  # max_vocab: The maximum number of words\n",
        "  # max_len: \n",
        "  messages = []  # a list contains the reviews\n",
        "  labels = []  # a list contains the labels\n",
        "  with open(filename, 'r') as file:\n",
        "      reader = csv.reader(file)\n",
        "      firstline = True\n",
        "      for row in reader:\n",
        "        if firstline:\n",
        "            firstline = False\n",
        "            continue\n",
        "        else:\n",
        "            messages.append(row[0])\n",
        "            labels.append(int(row[1]=='positive'))\n",
        "\n",
        "  tokenizer = Tokenizer(num_words=max_vocab)\n",
        "  tokenizer.fit_on_texts(messages)\n",
        "  messages_seq = tokenizer.texts_to_sequences(messages)\n",
        "  data = pad_sequences(messages_seq, maxlen=max_len)  \n",
        "  train_size = 0.8\n",
        "  messages_train, messages_valid_test, labels_train, labels_valid_test  = train_test_split(data, labels, train_size=train_size)\n",
        "  messages_valid, messages_test, labels_valid, labels_test  = train_test_split(messages_valid_test, labels_valid_test, train_size=0.5)\n",
        "  return np.array(messages_train), np.array(labels_train), np.array(messages_valid), np.array(labels_valid), np.array(messages_test), np.array(labels_test)"
      ],
      "execution_count": null,
      "outputs": []
    },
    {
      "cell_type": "markdown",
      "metadata": {
        "id": "iO1ybYF0W40d"
      },
      "source": [
        "For the data_processing function, we used Tokenizer which is a class in keras.preprocessing.text. The following questions are about the different methods in this class. \\\\\n",
        "\n"
      ]
    },
    {
      "cell_type": "markdown",
      "metadata": {
        "id": "ydmrGNTMdvRR"
      },
      "source": [
        "**Question 1** [1 points]: In your own words, explain what does \"fit_on_texts\" do? \\\\\n",
        "\n",
        "The \"fit_on_texts\" method takes text as an input and creates a dictionary by assigning a number to each word of the input. This dictionary is typically called word_index due to its structure, {word: index}.\n",
        "\n",
        "For example, \n",
        "\n",
        "input: \"My name is India\"\n",
        "\n",
        "fit_on_texts: {\"My\": 1, \"name\": 2, \"is\": 3, \"India\": 4\"}"
      ]
    },
    {
      "cell_type": "markdown",
      "metadata": {
        "id": "y3pCsWyBGmge"
      },
      "source": [
        "**Question 2** [1 points]: In your own words, explain what does \"texts_to_sequences\" do? \\\\\n",
        "\n",
        "The \"texts_to_sequences\" method turns the input into a sequence of integers. It does this by comparing the words in the input to the words in the dictionary. If the word is in the dictionary, replace it with the corresponding number. If it is not, leave a blank space in the sequence.\n",
        "\n",
        "For example:\n",
        "\n",
        "dictionary: {\"My\": 1, \"name\": 2, \"is\": 3, \"India\": 4\"}\n",
        "\n",
        "input: \"Her name is India\"\n",
        "\n",
        "texts_to_sequence: [   ,2,3,4]"
      ]
    },
    {
      "cell_type": "markdown",
      "metadata": {
        "id": "v6H812kVGmso"
      },
      "source": [
        "**Question 3** [1 points]: In your own words, explain what does \"pad_sequences\" do, and why do we need it? \\\\\n",
        "\n",
        "The \"pad_sequences\" method makes sure that all of the inputs to the neural network have uniform length. This is accomplished by adding 0s to each sequence until it is the same length as the longest sequence. The 0s can be added at the beginning or end of the sequence depending on how the pad_sequences method is applied. \n",
        "\n",
        "In this example, pad_sequences(sequences, padding='post')\n",
        "\n",
        "[1,4,3,5,6]\n",
        "\n",
        "[7,3,2,0,0]\n",
        "\n",
        "[3, ,4,2,0]"
      ]
    },
    {
      "cell_type": "markdown",
      "metadata": {
        "id": "bnC9bcrA2WYW"
      },
      "source": [
        "In the next cell, we encode the data set using one-hot encoding, and split the dataset into the training set, validation set, and the test test."
      ]
    },
    {
      "cell_type": "code",
      "metadata": {
        "id": "RnDy6PdeRmAq"
      },
      "source": [
        "messages_train, labels_train, messages_valid, labels_valid, messages_test, labels_test = data_processing(filename, max_vocab, max_len)"
      ],
      "execution_count": null,
      "outputs": []
    },
    {
      "cell_type": "markdown",
      "metadata": {
        "id": "tURN9Myo1TFt"
      },
      "source": [
        "**Question 4** [1 points]: Print one of the input in the training set and explain your observation? Does it match with what you expected?"
      ]
    },
    {
      "cell_type": "code",
      "source": [
        "print(\"\\n\\n messages_train[20]: \\n\", messages_train[20])\n",
        "print(\"\\n length messages_train[20]:\", len(messages_train[20]))"
      ],
      "metadata": {
        "colab": {
          "base_uri": "https://localhost:8080/"
        },
        "id": "fWFbjqd9BwJc",
        "outputId": "84d8c254-68c4-48b1-8f64-3aec38ea6baa"
      },
      "execution_count": null,
      "outputs": [
        {
          "output_type": "stream",
          "name": "stdout",
          "text": [
            "\n",
            "\n",
            " messages_train[20]: \n",
            " [   0    0    0    0    0    0    0    0    0    0    0    0    0    0\n",
            "    0    0    0    0    0    0    0    0    0    0    0    0    0    0\n",
            "    0    0    0    0    0    0    0    0    0    0    0    0    0    0\n",
            "    0    0    0    0    0    0    0    0    0    0    0    0    0    0\n",
            "    0    0    0    0    0  324 1710    6    3  194  637   61  326   19\n",
            "  221  335   15    1  112    4    1  204    2    3  206  103   15  455\n",
            "    4    1  353  481    6  568  299   15    3  326   19  259  530   22\n",
            "   67  380   12  501 1412    9   11  149  187  243   36    1  437  559\n",
            "  188    1 1593   23  799   14   69   14    1  735  948  134   20    1\n",
            " 1595  486   10   98  380    8    1  952  699    2   57 1914    8    1\n",
            "  674   12   47    4    1  150 1531   23   21  179    8   65  578   18\n",
            "  281  172   11  149  187  243   36    1  437  559    4  168    4  324\n",
            "    1  174    2  906   25  371  215   53   16  137  310  133    2   14\n",
            "    3  223   10   58  541  377   11  204    5  455    4    1  365 1901\n",
            "    2  860  735  784]\n",
            "\n",
            " length messages_train[20]: 200\n"
          ]
        }
      ]
    },
    {
      "cell_type": "markdown",
      "source": [
        "messages_train[20] has the length of 200, the maximum length of a review on IMDb. However, a significant number of the \"words\" are actually 0s that were added in order to help the input reach the desired length (this is a result of the pad_sequences method). Unlike the example I gave in Q3, this input is padded at the beginning so the 0s are added at the beginning. This matches what I expected.\n",
        "\n",
        "The only thing that doesn't seem to match what I expected is that there are no blank elements. My assumption is that this is because there were no unidentified words. \n",
        "\n"
      ],
      "metadata": {
        "id": "EzTWrNFwBwZF"
      }
    },
    {
      "cell_type": "markdown",
      "metadata": {
        "id": "K8_qD3MD2mSz"
      },
      "source": [
        "# Embedding Layer\n",
        "\n"
      ]
    },
    {
      "cell_type": "markdown",
      "metadata": {
        "id": "L9cEiS7QODgV"
      },
      "source": [
        "Imagine that we have 80,000 unique words in a text classification problem and we select to preprocess the text as explained above. For instance, a sentence \"i love you\" or ['i', 'love', 'you'] can be shown as a matrix of size (3 , 80000) where its elements is all zeros except from 3 elements that correspond to those words. In the case that we want to extract the feature using recurrent neural netowk, the input size should be the size of $80,000$ in which only three entries are non-zero!\n",
        "\n",
        "Instead, we can use the observation that since our goal is to extract feature from a sentence, we might be able to construct a mapping so that the words whose meanings are similar map to the same vector. One possible approach to do this is to perform this maaping using a simple matrix multiplication that transforms words into their corresponding word embeddings or turns positive integers (indexes) into dense vectors of fixed size, where the size of embedding $\\ll$ size of the vocabualry. \n",
        "\n",
        "Please watch this short video to gain better understanding of the embedding layer:\n",
        "\n",
        "\n",
        "https://www.coursera.org/lecture/nlp-sequence-models/learning-word-embeddings-APM5s\n"
      ]
    },
    {
      "cell_type": "markdown",
      "metadata": {
        "id": "6gZk5IBem37n"
      },
      "source": [
        "Since Objax does not have embedding layer module in it, we need to write our own module. One implementaiton of the embedding layer is as follows. "
      ]
    },
    {
      "cell_type": "code",
      "metadata": {
        "id": "ptW36LwMQ9gw"
      },
      "source": [
        "class Embed(objax.Module):\n",
        "    def __init__(self, size: int, latent: int, init: Callable = objax.nn.init.xavier_truncated_normal):\n",
        "        self.w = objax.TrainVar(init((size, latent)))\n",
        "\n",
        "    def __call__(self, x: JaxArray) -> JaxArray:\n",
        "        return self.w.value[x]"
      ],
      "execution_count": null,
      "outputs": []
    },
    {
      "cell_type": "markdown",
      "metadata": {
        "id": "VM2zTe6nmrE7"
      },
      "source": [
        "**Question 5: [1 points]**  Briefly explain how `__init__` and `__call__` functions work when the input is a sentence?\n",
        "\n",
        "`__init__`: uses the size and the latent to initialize W (a weight matrix with random values from a truncated normal distribution). \n",
        "\n",
        "`__call__`: takes a sentence (x, of the form of JaxArray) and multiplies it with the matrix W. The result of the multiplication is a smaller vector."
      ]
    },
    {
      "cell_type": "markdown",
      "metadata": {
        "id": "A7MRMmdi2tes"
      },
      "source": [
        "# Gated Recurrent Unit Cell\n",
        "GRUs are a family of the recurrent neural networks used for processing of the sequential data. In this assignment, we want to use GRU for the sentiment analysis.\n",
        "\n",
        "The forward pass of a Gated Recurrent Unit is defined by the following equations:\n",
        "\n",
        "\n",
        "\n",
        "\n",
        "1.   $z_t = \\text{sigmoid} (W_z x_t + U_z h_{t-1} + b_z)$\n",
        "2.   $r_t = \\text{sigmoid} (W_r x_t + U_r h_{t-1} + b_r)$\n",
        "3.   $\\hat{h}_t = \\text{tanh} (W_h x_t + U_h (r_t \\odot h_{t-1}) + b_h)$\n",
        "4.   $h_t =  (1-z_t)\\odot h_{t-1} + z_t \\odot \\hat{h}_t$\n",
        "\n",
        "where\n",
        "the operator ${\\displaystyle \\odot }$  denotes the Hadamard product, and \n",
        "\n",
        "*  $x_{t}$: input vector\n",
        "*   $h_{t}$: output vector\n",
        "* ${\\hat {h}}_{t}$: candidate activation vector\n",
        "* $z_{t}$: update gate vector\n",
        "* $r_{t}$: reset gate vector\n",
        "* $W_z$, $W_r$, $W_h$ , $U_z$, $U_r$, $U_h$, $b_z$ ,$b_r$, $b_h$ are parameter matrices and vectors.\n",
        "\n",
        "\n",
        "\n",
        "\n",
        "\n"
      ]
    },
    {
      "cell_type": "markdown",
      "metadata": {
        "id": "dgT7xQDCMz90"
      },
      "source": [
        "The schematic of a GRU cell is show below (taken from Wikipedia). Here $\\hat{y}_t$ is the same as $h_t$, and $\\sigma$ is sigmoid function."
      ]
    },
    {
      "cell_type": "markdown",
      "metadata": {
        "id": "KMBSB9r1Mj09"
      },
      "source": [
        "![2880px-Gated_Recurrent_Unit,_base_type.svg.png](data:image/png;base64,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)"
      ]
    },
    {
      "cell_type": "markdown",
      "metadata": {
        "id": "G18tC5f-HbfC"
      },
      "source": [
        "To learn more about GRU, please watch these short videos:\n",
        "\n",
        "https://www.coursera.org/lecture/intro-to-deep-learning/modern-rnns-lstm-and-gru-WpduX\n",
        "\n",
        "https://www.youtube.com/watch?v=pYRIOGTPRPU"
      ]
    },
    {
      "cell_type": "markdown",
      "metadata": {
        "id": "bsnNY3kvOhYc"
      },
      "source": [
        "Similar to the embedding layer, GRU module is not implemented in the Objax. The following is an implementation of the GRU cell in the Objax."
      ]
    },
    {
      "cell_type": "markdown",
      "metadata": {
        "id": "Qv_u2hNpwbfX"
      },
      "source": [
        "**Question 6[3 points]:** In the following implementation, complete the `__call__` function. "
      ]
    },
    {
      "cell_type": "code",
      "metadata": {
        "id": "ebLwc2Q5RAce"
      },
      "source": [
        "class GRU(objax.Module):\n",
        "    def __init__(self, nin: int, nout: int,\n",
        "                 init_w: Callable = objax.nn.init.xavier_truncated_normal,\n",
        "                 init_b: Callable = objax.nn.init.truncated_normal):\n",
        "        self.update_w = objax.TrainVar(init_w((nin, nout)))\n",
        "        self.update_u = objax.TrainVar(init_w((nout, nout)))\n",
        "        self.update_b = objax.TrainVar(init_b((nout,), stddev=0.01))\n",
        "        self.reset_w = objax.TrainVar(init_w((nin, nout)))\n",
        "        self.reset_u = objax.TrainVar(init_w((nout, nout)))\n",
        "        self.reset_b = objax.TrainVar(init_b((nout,), stddev=0.01))\n",
        "        self.output_w = objax.TrainVar(init_w((nin, nout)))\n",
        "        self.output_u = objax.TrainVar(init_w((nout, nout)))\n",
        "        self.output_b = objax.TrainVar(init_b((nout,), stddev=0.01))\n",
        "\n",
        "    def __call__(self, x: JaxArray, initial_state: JaxArray) -> Tuple[JaxArray, JaxArray]:\n",
        "        def scan_op(state: JaxArray, x: JaxArray) -> JaxArray:  # State must come first for lax.scan\n",
        "            # fill this in\n",
        "            update_gate = objax.functional.sigmoid(jn.matmul(x, self.update_w.value) + jn.matmul(state, self.update_u.value) + self.update_b.value)\n",
        "  \n",
        "            # fill this in\n",
        "            reset_gate = objax.functional.sigmoid(jn.matmul(x, self.reset_w.value) + jn.matmul(state, self.reset_u.value) + self.reset_b.value)\n",
        "\n",
        "            # fill this in\n",
        "            output_gate = objax.functional.tanh(jn.matmul(x, self.output_w.value) + jn.matmul(jn.multiply(reset_gate, state), self.output_u.value) + self.output_b.value)\n",
        "\n",
        "            #return update_gate * state + (1 - update_gate) * output_gate, 0  # we don't use the output, return 0.\n",
        "            return (1-update_gate) * state + (update_gate) * output_gate, 0   # we don't use the output, return 0.\n",
        "\n",
        "        return lax.scan(scan_op, initial_state, x.transpose((1, 0, 2)))[0]"
      ],
      "execution_count": null,
      "outputs": []
    },
    {
      "cell_type": "markdown",
      "metadata": {
        "id": "YrqpHbDGO6xY"
      },
      "source": [
        "**Questions 7** (bonus)[5 points]: With an example, explain in detail what does lax.scan function do, and what it is useful for?\n",
        "\n",
        "According to the [JAX documentation](https://jax.readthedocs.io/en/latest/_autosummary/jax.lax.scan.html), lax.scan \"scans a function over leading array axes while carrying along a state.\" It is used as a replacement for for-loops with carry-over. It is very useful for reducing the compilation time when executing an RNN over many timesteps. This is better because Python loops are unrolled and therefore take much longer to compile the for-loops of an RNN.\n",
        "\n",
        "lax.scan takes in three paramaters of different types. These parameters include f (a function that needs to be iterated through), init (the initial loop carry value) and xs (the input to be scanned). Lax.scan returns a tuple of type (c, [b]).\n",
        "\n",
        "Example:\n",
        "\n",
        "Consider the array [5, 2, 11, 6, 9]. Lax.scan can be used to calculate the cumulative product of elements in this array. For this array, the desired result is [5, 10, 110, 660, 5940].\n",
        "\n",
        "First, we will define the first parameter of lax.scan: f\n",
        "\n",
        "\n",
        "```\n",
        "def f(result, num):\n",
        "  result *= num\n",
        "  return result, result\n",
        "```\n",
        "\n",
        "Second, we will define the second parameter: init\n",
        "\n",
        "> init = 0 since there is no carry over for this application\n",
        "\n",
        "\n",
        "Finally, we define the third parameter: xs\n",
        "\n",
        "> From the example above, let xs = [5, 2, 11, 6, 9]\n",
        "\n",
        "Considering the definitions above, we get the following implementation of lax.scan\n",
        "\n",
        "\n",
        "\n",
        "```\n",
        "lastCarry, lastResult = lax.scan(f, init, xs)\n",
        "```\n",
        "\n",
        "\n",
        "\n",
        "\n"
      ]
    },
    {
      "cell_type": "markdown",
      "metadata": {
        "id": "Ff5OV0v1211P"
      },
      "source": [
        "# The classifier "
      ]
    },
    {
      "cell_type": "markdown",
      "metadata": {
        "id": "J2eqtnmFp0LC"
      },
      "source": [
        "The structure of the proposed classifier is as follows:\n",
        "\n",
        "\n",
        "*   The input is a vector whose elements are integers in the interval $\\{$1,...,max_vocab$\\}$ of length max_len. In fact input is the one-hot encoding of each review.\n",
        "*    Then, the embedding layer converts this vector into a matrix of size (max_len,embedding_size).\n",
        "* Then, we feed each row of this matrix into the GRU cell. The size of the output vector of the GRU is num_hidden_units_GRU.\n",
        "*  The output of the GRU is feed into a fully-connected layer with num_hidden_units neurons and ReLU activation function.\n",
        "\n",
        "* Finally, we have the output layer which is a fully-connected layer with two outputs corresponding to the positive or negative label.\n",
        "\n"
      ]
    },
    {
      "cell_type": "markdown",
      "metadata": {
        "id": "WaS6w41EyE2u"
      },
      "source": [
        "**Question 8** [3 points]: implement the described classifier using `objax.nn.Sequential`.\n",
        "\n",
        "\n"
      ]
    },
    {
      "cell_type": "code",
      "metadata": {
        "id": "pyhebATIRHHr"
      },
      "source": [
        "# fill this in:\n",
        "gru_rnn = objax.nn.Sequential([\n",
        "    Embed(max_vocab, embedding_size),                         \n",
        "            GRU(embedding_size, num_hidden_units_GRU),               \n",
        "            objax.nn.Linear(num_hidden_units_GRU, num_hidden_units), \n",
        "            objax.functional.relu,                                   \n",
        "            objax.nn.Linear(num_hidden_units, 2) \n",
        "])"
      ],
      "execution_count": null,
      "outputs": []
    },
    {
      "cell_type": "markdown",
      "source": [
        "**Embed(max_vocab, embedding_size)** --> input to embedding layer is one-hot encoding of each review; embedding ayer converts this vector into a matrix\n",
        "\n",
        "**GRU(embedding_size, num_hidden_units_GRU)** --> feed each row of this matrix into the GRU cell\n",
        "\n",
        "**objax.nn.Linear(num_hidden_units_GRU, num_hidden_units)** --> feed output of the GRU into fully connected layer\n",
        "\n",
        "**objax.functional.relu** --> ReLU activation function\n",
        "\n",
        "**objax.nn.Linear(num_hidden_units, 2)** --> obtain positive or negative label from output layer"
      ],
      "metadata": {
        "id": "rBCvMeHSXsyU"
      }
    },
    {
      "cell_type": "markdown",
      "metadata": {
        "id": "PcH0s0Fs3MCF"
      },
      "source": [
        "You can print the structure as well as the number of the parameters of the each layer using the following line of codes."
      ]
    },
    {
      "cell_type": "code",
      "metadata": {
        "id": "CgN7H9HM3K6s",
        "colab": {
          "base_uri": "https://localhost:8080/"
        },
        "outputId": "2ee8d23f-c257-406d-8f11-3a7f224a90fa"
      },
      "source": [
        "print(f'{\" Network \":-^79}')\n",
        "print(gru_rnn.vars())"
      ],
      "execution_count": null,
      "outputs": [
        {
          "output_type": "stream",
          "name": "stdout",
          "text": [
            "----------------------------------- Network -----------------------------------\n",
            "(Sequential)[0](Embed).w         60000 (2000, 30)\n",
            "(Sequential)[1](GRU).update_w      900 (30, 30)\n",
            "(Sequential)[1](GRU).update_u      900 (30, 30)\n",
            "(Sequential)[1](GRU).update_b       30 (30,)\n",
            "(Sequential)[1](GRU).reset_w       900 (30, 30)\n",
            "(Sequential)[1](GRU).reset_u       900 (30, 30)\n",
            "(Sequential)[1](GRU).reset_b        30 (30,)\n",
            "(Sequential)[1](GRU).output_w      900 (30, 30)\n",
            "(Sequential)[1](GRU).output_u      900 (30, 30)\n",
            "(Sequential)[1](GRU).output_b       30 (30,)\n",
            "(Sequential)[2](Linear).b           60 (60,)\n",
            "(Sequential)[2](Linear).w         1800 (30, 60)\n",
            "(Sequential)[4](Linear).b            2 (2,)\n",
            "(Sequential)[4](Linear).w          120 (60, 2)\n",
            "+Total(14)                       67472\n"
          ]
        }
      ]
    },
    {
      "cell_type": "markdown",
      "metadata": {
        "id": "My6tTf_kNmlQ"
      },
      "source": [
        "**Question 9** [3 points]: Draw the classifier architecture diagram. For GRU consider drawing the unrolled version. You do not need to draw the internal structure of the GRU. \n",
        "\n"
      ]
    },
    {
      "cell_type": "markdown",
      "source": [
        "See crowdmark submission for answer. Photo upload functionality not working on Google Colab..."
      ],
      "metadata": {
        "id": "dMGx_lUAF8hy"
      }
    },
    {
      "cell_type": "markdown",
      "metadata": {
        "id": "hL14mtSnrV8a"
      },
      "source": [
        "**Question 10**[1 point]: Construct an SGD optimizer using objax optimizers package."
      ]
    },
    {
      "cell_type": "code",
      "metadata": {
        "id": "NW08OQEgRI4q"
      },
      "source": [
        "## Your implementaiton of the optimizer should go here\n",
        "opt = objax.optimizer.SGD(gru_rnn.vars())"
      ],
      "execution_count": null,
      "outputs": []
    },
    {
      "cell_type": "markdown",
      "metadata": {
        "id": "LjfZtTobsnY5"
      },
      "source": [
        "Then, we define the loss function, training operation function, and the\n",
        "evaluation function."
      ]
    },
    {
      "cell_type": "code",
      "metadata": {
        "id": "k3RVMtqJROIs"
      },
      "source": [
        "def loss_function(x: JaxArray, y: JaxArray):\n",
        "    logits = gru_rnn(x, initial_state=jn.zeros((x.shape[0], num_hidden_units_GRU)))\n",
        "    return objax.functional.loss.cross_entropy_logits_sparse(logits, y).sum()\n",
        "\n",
        "\n",
        "gv = objax.GradValues(loss_function, gru_rnn.vars())\n",
        "\n",
        "\n",
        "@objax.Function.with_vars(gv.vars() + opt.vars())\n",
        "def train_op(x: JaxArray, y: JaxArray, lr: float):\n",
        "    g, loss = gv(x, y)\n",
        "    opt(lr, g)\n",
        "    return loss\n",
        "\n",
        "\n",
        "train_op = objax.Jit(train_op)\n",
        "eval_op = objax.Jit(lambda x: gru_rnn(x, initial_state=jn.zeros((x.shape[0], num_hidden_units_GRU))),\n",
        "                    gru_rnn.vars())\n"
      ],
      "execution_count": null,
      "outputs": []
    },
    {
      "cell_type": "markdown",
      "metadata": {
        "id": "P3_O0ubYv54W"
      },
      "source": [
        "The next function is a helper for computing the accuracy."
      ]
    },
    {
      "cell_type": "code",
      "metadata": {
        "id": "LdgUlNNjRPcN"
      },
      "source": [
        "\n",
        "def accuracy(data_loader):\n",
        "    \"\"\"Compute the accuracy for a provided data loader\"\"\"\n",
        "    acc_total = 0\n",
        "    x, y = data_loader\n",
        "    batch_size_acc = 500\n",
        "    for batch_idx in np.array_split(np.arange(len(x)), len(x) // batch_size_acc):\n",
        "        x_batch, target_class = x[batch_idx], y[batch_idx]\n",
        "        predicted_class = eval_op(x_batch).argmax(1)\n",
        "        acc_total += (predicted_class == target_class).sum()\n",
        "    return acc_total / len(x)"
      ],
      "execution_count": null,
      "outputs": []
    },
    {
      "cell_type": "markdown",
      "metadata": {
        "id": "ynDNrtOhwAze"
      },
      "source": [
        "**Question 11** [4 points]: Write the training loop to train the model. In each epoch, record the training accuracy and the validation accuracy. Also, at the end of the training report the accuracy on the test set. Please use the training set to train the model, the validation set to monitor accuracy during training, and then the test set once after training is complete to measure the final generalization of the model."
      ]
    },
    {
      "cell_type": "code",
      "metadata": {
        "id": "KMmWBEMQyG7Y"
      },
      "source": [
        "learning_rate = 1e-3 # learning rate\n",
        "num_epochs = 20 # number of epochs\n",
        "batch_size = 250  # batch size\n",
        "training_data = (messages_train, labels_train)\n",
        "validation_data = (messages_valid, labels_valid)\n",
        "test_data = (messages_test, labels_test)"
      ],
      "execution_count": null,
      "outputs": []
    },
    {
      "cell_type": "code",
      "metadata": {
        "id": "qPpDrb8NRUID",
        "colab": {
          "base_uri": "https://localhost:8080/"
        },
        "outputId": "9a67faa5-2f26-4980-b486-7a01a154264e"
      },
      "source": [
        "# you code for the training loop should start here \n",
        "# the following code was modified from assignment 4 part 2 question 2\n",
        "\n",
        "avg_train_loss_epoch = []\n",
        "avg_val_loss_epoch = []\n",
        "train_acc_epoch = []\n",
        "val_acc_epoch = []\n",
        "\n",
        "def train(EPOCHS= num_epochs, BATCH= batch_size, LEARNING_RATE= learning_rate):\n",
        "  X_valid, Y_valid = validation_data\n",
        "  X_train, Y_train = training_data\n",
        "  \n",
        "  for epoch in range(EPOCHS):\n",
        "      avg_train_loss = 0 # (averaged) training loss per batch\n",
        "      avg_val_loss =  0  # (averaged) validation loss per batch\n",
        "      train_acc = 0      # training accuracy per batch\n",
        "      val_acc = 0        # validation accuracy per batch\n",
        "\n",
        "      # shuffle the examples prior to training to remove correlation \n",
        "      train_indices = np.arange(len(X_train)) \n",
        "      np.random.shuffle(train_indices)\n",
        "      for it in range(0, X_train.shape[0], BATCH):\n",
        "          ####################\n",
        "          batch = train_indices[it:it+BATCH]\n",
        "          ####################\n",
        "          avg_train_loss += float(train_op(X_train[batch], Y_train[batch], LEARNING_RATE)[0]) * len(batch)\n",
        "          train_prediction = eval_op(X_train[batch]).argmax(1)\n",
        "          train_acc += (np.array(train_prediction).flatten() == Y_train[batch]).sum()\n",
        "      train_acc_epoch.append(train_acc/X_train.shape[0])\n",
        "      avg_train_loss_epoch.append(avg_train_loss/X_train.shape[0])\n",
        "\n",
        "      # run validation\n",
        "      val_indices = np.arange(len(X_valid)) \n",
        "      np.random.shuffle(val_indices)    \n",
        "      for it in range(0, X_valid.shape[0], BATCH):\n",
        "          ####################\n",
        "          batch = val_indices[it:it+BATCH]\n",
        "          ####################\n",
        "          avg_val_loss += float(loss_function(X_valid[batch], Y_valid[batch])) * len(batch)\n",
        "          val_prediction = eval_op(X_valid[batch]).argmax(1)\n",
        "          val_acc += (np.array(val_prediction).flatten() == Y_valid[batch]).sum()\n",
        "      val_acc_epoch.append(val_acc/X_valid.shape[0])\n",
        "      avg_val_loss_epoch.append(avg_val_loss/X_valid.shape[0])\n",
        "\n",
        "      print('Epoch %04d  Training Loss %.2f Validation Loss %.2f Training Accuracy %.2f Validation Accuracy %.2f' % (epoch + 1, avg_train_loss/X_train.shape[0], avg_val_loss/X_valid.shape[0], 100*train_acc/X_train.shape[0], 100*val_acc/X_valid.shape[0]))\n",
        "\n",
        "train()\n",
        " \n"
      ],
      "execution_count": null,
      "outputs": [
        {
          "output_type": "stream",
          "name": "stdout",
          "text": [
            "Epoch 0001  Training Loss 172.57 Validation Loss 171.05 Training Accuracy 55.46 Validation Accuracy 57.44\n",
            "Epoch 0002  Training Loss 168.11 Validation Loss 165.11 Training Accuracy 60.59 Validation Accuracy 58.30\n",
            "Epoch 0003  Training Loss 162.18 Validation Loss 159.54 Training Accuracy 63.40 Validation Accuracy 62.48\n",
            "Epoch 0004  Training Loss 154.69 Validation Loss 146.70 Training Accuracy 66.62 Validation Accuracy 69.14\n",
            "Epoch 0005  Training Loss 147.97 Validation Loss 136.96 Training Accuracy 69.39 Validation Accuracy 72.16\n",
            "Epoch 0006  Training Loss 144.25 Validation Loss 166.42 Training Accuracy 71.11 Validation Accuracy 60.80\n",
            "Epoch 0007  Training Loss 141.35 Validation Loss 127.86 Training Accuracy 72.87 Validation Accuracy 75.28\n",
            "Epoch 0008  Training Loss 139.65 Validation Loss 141.22 Training Accuracy 72.90 Validation Accuracy 70.42\n",
            "Epoch 0009  Training Loss 134.29 Validation Loss 123.73 Training Accuracy 74.48 Validation Accuracy 76.80\n",
            "Epoch 0010  Training Loss 133.56 Validation Loss 129.91 Training Accuracy 75.67 Validation Accuracy 74.70\n",
            "Epoch 0011  Training Loss 128.44 Validation Loss 143.36 Training Accuracy 76.57 Validation Accuracy 72.64\n",
            "Epoch 0012  Training Loss 125.67 Validation Loss 111.03 Training Accuracy 76.94 Validation Accuracy 81.60\n",
            "Epoch 0013  Training Loss 125.15 Validation Loss 110.86 Training Accuracy 76.84 Validation Accuracy 79.70\n",
            "Epoch 0014  Training Loss 110.54 Validation Loss 101.97 Training Accuracy 80.58 Validation Accuracy 82.08\n",
            "Epoch 0015  Training Loss 105.11 Validation Loss 101.45 Training Accuracy 81.65 Validation Accuracy 81.10\n",
            "Epoch 0016  Training Loss 98.83 Validation Loss 95.86 Training Accuracy 82.79 Validation Accuracy 83.72\n",
            "Epoch 0017  Training Loss 94.08 Validation Loss 97.25 Training Accuracy 83.93 Validation Accuracy 83.06\n",
            "Epoch 0018  Training Loss 90.59 Validation Loss 80.96 Training Accuracy 84.59 Validation Accuracy 85.94\n",
            "Epoch 0019  Training Loss 87.29 Validation Loss 78.73 Training Accuracy 85.40 Validation Accuracy 86.56\n",
            "Epoch 0020  Training Loss 84.32 Validation Loss 91.01 Training Accuracy 85.84 Validation Accuracy 83.14\n"
          ]
        }
      ]
    },
    {
      "cell_type": "code",
      "source": [
        "# accuracy on the test set\n",
        "accuracy(test_data)"
      ],
      "metadata": {
        "colab": {
          "base_uri": "https://localhost:8080/"
        },
        "id": "cmITHpMVyBCY",
        "outputId": "e03f1097-033c-47a2-95ac-df1601ff6b81"
      },
      "execution_count": null,
      "outputs": [
        {
          "output_type": "execute_result",
          "data": {
            "text/plain": [
              "DeviceArray(0.8352, dtype=float32)"
            ]
          },
          "metadata": {},
          "execution_count": 42
        }
      ]
    },
    {
      "cell_type": "markdown",
      "metadata": {
        "id": "GS753kpo4LO9"
      },
      "source": [
        "**Question 12:[1 points]**  Plot the training accuracy and the validation accuracy versus the number of epochs. What is the generalization gap between the test and training?\n",
        "\n",
        "Given that the...\n",
        "\n",
        "training accuracy = 85.84%\n",
        "\n",
        "testing accuracy = 84.52%\n",
        "\n",
        "... the generalization gap is 1.32%"
      ]
    },
    {
      "cell_type": "code",
      "source": [
        "  #Plot training loss (from A2 P2 Q2)\n",
        "  plt.title(\"Train vs Validation Accuracy (SGD)\")\n",
        "  plt.plot(train_acc_epoch, label=\"Train\")\n",
        "  plt.plot(val_acc_epoch, label=\"Validation\")\n",
        "  plt.xlabel(\"Epoch\")\n",
        "  plt.ylabel(\"Accuracy (%)\")\n",
        "  plt.legend(loc='best')\n",
        "  plt.show()"
      ],
      "metadata": {
        "colab": {
          "base_uri": "https://localhost:8080/",
          "height": 296
        },
        "id": "1WEUrkpWy9SZ",
        "outputId": "1c1205c9-4a13-4910-c981-06ecac3e7ca3"
      },
      "execution_count": null,
      "outputs": [
        {
          "output_type": "display_data",
          "data": {
            "text/plain": [
              "<Figure size 432x288 with 1 Axes>"
            ],
            "image/png": "[encoded data removed]"
          },
          "metadata": {
            "needs_background": "light"
          }
        }
      ]
    },
    {
      "cell_type": "markdown",
      "metadata": {
        "id": "nVcuo4117fky"
      },
      "source": [
        "# Comparing SGD with Adam"
      ]
    },
    {
      "cell_type": "markdown",
      "metadata": {
        "id": "q5VieaEO7pHY"
      },
      "source": [
        "**Question 13** [4 points]: Train the same model with the same parameters using the Adam optimizer instead of the SGD. Do not forgot to initialize the network before training, otherwise the previous model will continue training from the final model parameters rather than start from a fresh set of random weight initialization values."
      ]
    },
    {
      "cell_type": "code",
      "metadata": {
        "id": "1msV0lG2AtRv"
      },
      "source": [
        "# Define (again) your model here\n",
        "gru_rnn2 = objax.nn.Sequential([\n",
        "    Embed(max_vocab, embedding_size),                         \n",
        "          GRU(embedding_size, num_hidden_units_GRU),               \n",
        "          objax.nn.Linear(num_hidden_units_GRU, num_hidden_units), \n",
        "          objax.functional.relu,                                   \n",
        "          objax.nn.Linear(num_hidden_units, 2) \n",
        "])"
      ],
      "execution_count": null,
      "outputs": []
    },
    {
      "cell_type": "code",
      "metadata": {
        "id": "4a9DpVYH7kRg"
      },
      "source": [
        "## Your implementaiton of the optimizer should go here\n",
        "opt2 = objax.optimizer.Adam(gru_rnn2.vars())"
      ],
      "execution_count": null,
      "outputs": []
    },
    {
      "cell_type": "markdown",
      "metadata": {
        "id": "0F5OUHINzbBR"
      },
      "source": [
        "You will also need the following functions."
      ]
    },
    {
      "cell_type": "code",
      "metadata": {
        "id": "JCoJ2AmE7Q8A"
      },
      "source": [
        "def loss_function(x: JaxArray, y: JaxArray):\n",
        "    logits = gru_rnn2(x, initial_state=jn.zeros((x.shape[0], num_hidden_units_GRU)))\n",
        "    return objax.functional.loss.cross_entropy_logits_sparse(logits, y).sum()\n",
        "\n",
        "\n",
        "gv2 = objax.GradValues(loss_function, gru_rnn2.vars())\n",
        "\n",
        "\n",
        "@objax.Function.with_vars(gv2.vars() + opt2.vars())\n",
        "def train_op(x: JaxArray, y: JaxArray, lr: float):\n",
        "    g, loss = gv2(x, y)\n",
        "    opt2(lr, g)\n",
        "    return loss\n",
        "\n",
        "\n",
        "train_op = objax.Jit(train_op)\n",
        "eval_op = objax.Jit(lambda x: gru_rnn2(x, initial_state=jn.zeros((x.shape[0], num_hidden_units_GRU))),\n",
        "                    gru_rnn2.vars())"
      ],
      "execution_count": null,
      "outputs": []
    },
    {
      "cell_type": "code",
      "metadata": {
        "id": "Kxb1-cMq7k-7"
      },
      "source": [
        "learning_rate = 1e-3\n",
        "num_epochs = 20\n",
        "batch_size = 250 \n",
        "training_data = (messages_train, labels_train)\n",
        "validation_data = (messages_valid, labels_valid)\n",
        "test_data = (messages_test, labels_test)\n"
      ],
      "execution_count": null,
      "outputs": []
    },
    {
      "cell_type": "code",
      "metadata": {
        "id": "pU9NrcX97oDR",
        "colab": {
          "base_uri": "https://localhost:8080/"
        },
        "outputId": "aeb88584-54cd-4213-9840-d3ec580cd803"
      },
      "source": [
        "# you code for the training loop should start here \n",
        "# the following code was modified from assignment 4 part 2 question 2\n",
        "\n",
        "avg_train_loss_epoch_2 = []\n",
        "avg_val_loss_epoch_2 = []\n",
        "train_acc_epoch_2 = []\n",
        "val_acc_epoch_2 = []\n",
        "\n",
        "def train_2(EPOCHS= num_epochs, BATCH= batch_size, LEARNING_RATE= learning_rate):\n",
        "  X_valid, Y_valid = validation_data\n",
        "  X_train, Y_train = training_data\n",
        "  \n",
        "  for epoch in range(EPOCHS):\n",
        "      avg_train_loss = 0 # (averaged) training loss per batch\n",
        "      avg_val_loss =  0  # (averaged) validation loss per batch\n",
        "      train_acc = 0      # training accuracy per batch\n",
        "      val_acc = 0        # validation accuracy per batch\n",
        "\n",
        "      # shuffle the examples prior to training to remove correlation \n",
        "      train_indices = np.arange(len(X_train)) \n",
        "      np.random.shuffle(train_indices)\n",
        "      for it in range(0, X_train.shape[0], BATCH):\n",
        "          ####################\n",
        "          batch = train_indices[it:it+BATCH]\n",
        "          ####################\n",
        "          avg_train_loss += float(train_op(X_train[batch], Y_train[batch], LEARNING_RATE)[0]) * len(batch)\n",
        "          train_prediction = eval_op(X_train[batch]).argmax(1)\n",
        "          train_acc += (np.array(train_prediction).flatten() == Y_train[batch]).sum()\n",
        "      train_acc_epoch_2.append(train_acc/X_train.shape[0])\n",
        "      avg_train_loss_epoch_2.append(avg_train_loss/X_train.shape[0])\n",
        "\n",
        "      # run validation\n",
        "      val_indices = np.arange(len(X_valid)) \n",
        "      np.random.shuffle(val_indices)    \n",
        "      for it in range(0, X_valid.shape[0], BATCH):\n",
        "          ####################\n",
        "          batch = val_indices[it:it+BATCH]\n",
        "          ####################\n",
        "          avg_val_loss += float(loss_function(X_valid[batch], Y_valid[batch])) * len(batch)\n",
        "          val_prediction = eval_op(X_valid[batch]).argmax(1)\n",
        "          val_acc += (np.array(val_prediction).flatten() == Y_valid[batch]).sum()\n",
        "      val_acc_epoch_2.append(val_acc/X_valid.shape[0])\n",
        "      avg_val_loss_epoch_2.append(avg_val_loss/X_valid.shape[0])\n",
        "\n",
        "      print('Epoch %04d  Training Loss %.2f Validation Loss %.2f Training Accuracy %.2f Validation Accuracy %.2f' % (epoch + 1, avg_train_loss/X_train.shape[0], avg_val_loss/X_valid.shape[0], 100*train_acc/X_train.shape[0], 100*val_acc/X_valid.shape[0]))\n",
        "\n",
        "train_2()\n"
      ],
      "execution_count": null,
      "outputs": [
        {
          "output_type": "stream",
          "name": "stdout",
          "text": [
            "Epoch 0001  Training Loss 118.35 Validation Loss 78.47 Training Accuracy 77.62 Validation Accuracy 86.76\n",
            "Epoch 0002  Training Loss 74.11 Validation Loss 74.51 Training Accuracy 88.42 Validation Accuracy 87.26\n",
            "Epoch 0003  Training Loss 67.63 Validation Loss 69.70 Training Accuracy 89.48 Validation Accuracy 87.94\n",
            "Epoch 0004  Training Loss 63.28 Validation Loss 69.32 Training Accuracy 90.26 Validation Accuracy 87.92\n",
            "Epoch 0005  Training Loss 60.27 Validation Loss 69.56 Training Accuracy 90.77 Validation Accuracy 88.34\n",
            "Epoch 0006  Training Loss 58.12 Validation Loss 70.03 Training Accuracy 91.23 Validation Accuracy 88.20\n",
            "Epoch 0007  Training Loss 54.56 Validation Loss 75.55 Training Accuracy 91.80 Validation Accuracy 87.00\n",
            "Epoch 0008  Training Loss 52.17 Validation Loss 74.43 Training Accuracy 92.18 Validation Accuracy 87.86\n",
            "Epoch 0009  Training Loss 48.69 Validation Loss 73.99 Training Accuracy 92.88 Validation Accuracy 87.56\n",
            "Epoch 0010  Training Loss 46.05 Validation Loss 79.89 Training Accuracy 93.30 Validation Accuracy 88.00\n",
            "Epoch 0011  Training Loss 43.97 Validation Loss 77.25 Training Accuracy 93.69 Validation Accuracy 88.06\n",
            "Epoch 0012  Training Loss 40.71 Validation Loss 83.12 Training Accuracy 94.30 Validation Accuracy 87.44\n",
            "Epoch 0013  Training Loss 38.06 Validation Loss 83.23 Training Accuracy 94.69 Validation Accuracy 87.92\n",
            "Epoch 0014  Training Loss 34.66 Validation Loss 85.88 Training Accuracy 95.22 Validation Accuracy 87.76\n",
            "Epoch 0015  Training Loss 32.94 Validation Loss 90.56 Training Accuracy 95.55 Validation Accuracy 87.86\n",
            "Epoch 0016  Training Loss 29.79 Validation Loss 98.77 Training Accuracy 96.09 Validation Accuracy 87.52\n",
            "Epoch 0017  Training Loss 27.99 Validation Loss 103.38 Training Accuracy 96.33 Validation Accuracy 87.60\n",
            "Epoch 0018  Training Loss 26.61 Validation Loss 109.39 Training Accuracy 96.55 Validation Accuracy 87.94\n",
            "Epoch 0019  Training Loss 24.00 Validation Loss 119.60 Training Accuracy 96.94 Validation Accuracy 87.76\n",
            "Epoch 0020  Training Loss 22.42 Validation Loss 116.77 Training Accuracy 97.17 Validation Accuracy 87.40\n"
          ]
        }
      ]
    },
    {
      "cell_type": "code",
      "source": [
        "accuracy(test_data)"
      ],
      "metadata": {
        "colab": {
          "base_uri": "https://localhost:8080/"
        },
        "id": "0W-ZU55k1rf_",
        "outputId": "fd7ae241-9294-4af6-94f1-5e155b5aa99f"
      },
      "execution_count": null,
      "outputs": [
        {
          "output_type": "execute_result",
          "data": {
            "text/plain": [
              "DeviceArray(0.8694, dtype=float32)"
            ]
          },
          "metadata": {},
          "execution_count": 52
        }
      ]
    },
    {
      "cell_type": "markdown",
      "metadata": {
        "id": "Vbe4sYB9AxB5"
      },
      "source": [
        "**Question 14** [1 points]: Plot the training accuracy and validation accuracy versus the epochs, and compare your results with the case that you trained the network using SGD. What is the generalization gap for this case?\n",
        "\n",
        "*Given that the...*\n",
        "\n",
        "training accuracy = 97.17%\n",
        "\n",
        "testing accuracy = 86.94%\n",
        "\n",
        "... the generalization gap is 10.23%\n",
        "\n"
      ]
    },
    {
      "cell_type": "code",
      "source": [
        "#Plot Accuracy\n",
        "plt.title(\"Train vs Validation Accuracy (Adam)\")\n",
        "plt.plot(train_acc_epoch_2, label=\"Train\")\n",
        "plt.plot(val_acc_epoch_2, label=\"Validation\")\n",
        "plt.xlabel(\"Epoch\")\n",
        "plt.ylabel(\"Accuracy (%)\")\n",
        "plt.legend(loc='best')\n",
        "plt.show()"
      ],
      "metadata": {
        "colab": {
          "base_uri": "https://localhost:8080/",
          "height": 296
        },
        "id": "JsJBaiNY1SU4",
        "outputId": "832308e9-1fdc-4b21-a812-be6341433cbb"
      },
      "execution_count": null,
      "outputs": [
        {
          "output_type": "display_data",
          "data": {
            "text/plain": [
              "<Figure size 432x288 with 1 Axes>"
            ],
            "image/png": "[encoded data removed]"
          },
          "metadata": {
            "needs_background": "light"
          }
        }
      ]
    },
    {
      "cell_type": "markdown",
      "source": [
        "When comparing the results between using the SDG and Adam optimizers, there are two key differences. \n",
        "\n",
        "Firstly, there is a significant difference in the generalization gaps. Although the Adama optimizer has an incredibly high training accuracy of 97.17%, the large generalization gap (10.23%) shows that the model does not perform well on new, hidden data. The SDG optimizer, while having a lower training accuracy, only has a generalization gap of 1.32% which shows that it performs much better on the test data set. \n",
        "\n",
        "Secondly, the two plots look very different. The validation accuracy, when using the SDG optimizer, closely follows the general shape of the training accuracy. When using the Adam optimizer, on the other hand, the validation accuracy is very \"flat\". Although the validation accuracy plateus near where the slope changes significantly for the training accuracy, the two lines are very different.\n",
        "\n"
      ],
      "metadata": {
        "id": "aCptiJ8d2VoP"
      }
    },
    {
      "cell_type": "markdown",
      "metadata": {
        "id": "6_HDyydfBBkK"
      },
      "source": [
        "**Questions 15** [1 points]: Briefly explain how Adam optimizer works and compare it with the SGD optimizaer."
      ]
    },
    {
      "cell_type": "markdown",
      "source": [
        "**SGD (stochastic gradient descent)** works using gradient descent, as implied by its name. This optimizer calculates the gradient descent for all parameters in the nueral network using a single learning rate. This learning rate remains constant throughout the entire learning process. \n",
        "\n",
        "**Adam (Adaptive Moment Estimation)** computes adaptive learning rates for the model parameters. It can be thought of as an extension of SGD, expanding on the principle concept of SGD. Unlike SGD, Adam maintains an individual learning rate for each network parameter, updating each learning rate separately using calculations of an exponential moving average of both the gradient and square gradient. "
      ],
      "metadata": {
        "id": "KFEK7uMy35Pb"
      }
    },
    {
      "cell_type": "markdown",
      "metadata": {
        "id": "CrPz14ib78If"
      },
      "source": [
        "# Early Stopping"
      ]
    },
    {
      "cell_type": "markdown",
      "metadata": {
        "id": "-SFmys-F7_2t"
      },
      "source": [
        "**Questions 16** [3 points]: \n",
        "This time implement the early stopping method with a patience window. All the parameters are the same as the previous section. Also, set the patience window to 5 epochs."
      ]
    },
    {
      "cell_type": "code",
      "metadata": {
        "id": "keB045r1AIpp"
      },
      "source": [
        "# Your implementation of the model should go here\n",
        "gru_rnn3 = objax.nn.Sequential([\n",
        "    Embed(max_vocab, embedding_size),                         \n",
        "          GRU(embedding_size, num_hidden_units_GRU),               \n",
        "          objax.nn.Linear(num_hidden_units_GRU, num_hidden_units), \n",
        "          objax.functional.relu,                                   \n",
        "          objax.nn.Linear(num_hidden_units, 2) \n",
        "])"
      ],
      "execution_count": null,
      "outputs": []
    },
    {
      "cell_type": "code",
      "metadata": {
        "id": "zGkJLDXqAMW0"
      },
      "source": [
        "## Your implementaiton of the optimizer should go here\n",
        "opt3 = objax.optimizer.SGD(gru_rnn3.vars())"
      ],
      "execution_count": null,
      "outputs": []
    },
    {
      "cell_type": "markdown",
      "metadata": {
        "id": "JiFn22RN3WxC"
      },
      "source": [
        "You will also need the following functions."
      ]
    },
    {
      "cell_type": "code",
      "metadata": {
        "id": "3h0TI3nEAQim"
      },
      "source": [
        "def loss_function(x: JaxArray, y: JaxArray):\n",
        "    logits = gru_rnn3(x, initial_state=jn.zeros((x.shape[0], num_hidden_units_GRU)))\n",
        "    return objax.functional.loss.cross_entropy_logits_sparse(logits, y).sum()\n",
        "\n",
        "\n",
        "gv3 = objax.GradValues(loss_function, gru_rnn3.vars())\n",
        "\n",
        "\n",
        "@objax.Function.with_vars(gv3.vars() + opt3.vars())\n",
        "def train_op(x: JaxArray, y: JaxArray, lr: float):\n",
        "    g, loss = gv3(x, y)\n",
        "    opt3(lr, g)\n",
        "    return loss\n",
        "\n",
        "\n",
        "train_op = objax.Jit(train_op)\n",
        "eval_op = objax.Jit(lambda x: gru_rnn3(x, initial_state=jn.zeros((x.shape[0], num_hidden_units_GRU))),\n",
        "                    gru_rnn3.vars())"
      ],
      "execution_count": null,
      "outputs": []
    },
    {
      "cell_type": "code",
      "metadata": {
        "id": "K_wAx-MB_tCo"
      },
      "source": [
        "learning_rate = 1e-3\n",
        "num_epochs = 20\n",
        "batch_size = 250 \n",
        "max_patience_window = 5\n",
        "training_data = (messages_train, labels_train)\n",
        "validation_data = (messages_valid, labels_valid)\n",
        "test_data = (messages_test, labels_test)"
      ],
      "execution_count": null,
      "outputs": []
    },
    {
      "cell_type": "code",
      "metadata": {
        "id": "d41IcdvgBX4_",
        "colab": {
          "base_uri": "https://localhost:8080/"
        },
        "outputId": "cb9d1e49-b142-430c-dfb5-899524571f25"
      },
      "source": [
        "# you code for the training loop should start here \n",
        "# you code for the training loop should start here \n",
        "# the following code was modified from assignment 4 part 2 question 2\n",
        "\n",
        "avg_train_loss_epoch_3 = []\n",
        "avg_val_loss_epoch_3 = []\n",
        "train_acc_epoch_3 = []\n",
        "val_acc_epoch_3 = []\n",
        "\n",
        "def train_ES(EPOCHS= num_epochs, BATCH= batch_size, LEARNING_RATE= learning_rate, PATIENCE = max_patience_window):\n",
        "  X_valid, Y_valid = validation_data\n",
        "  X_train, Y_train = training_data\n",
        "  \n",
        "  for epoch in range(EPOCHS):\n",
        "      avg_train_loss = 0 # (averaged) training loss per batch\n",
        "      avg_val_loss =  0  # (averaged) validation loss per batch\n",
        "      train_acc = 0      # training accuracy per batch\n",
        "      val_acc = 0        # validation accuracy per batch\n",
        "\n",
        "      # shuffle the examples prior to training to remove correlation \n",
        "      train_indices = np.arange(len(X_train)) \n",
        "      np.random.shuffle(train_indices)\n",
        "      for it in range(0, X_train.shape[0], BATCH):\n",
        "          batch = train_indices[it:it+BATCH]\n",
        "          avg_train_loss += float(train_op(X_train[batch], Y_train[batch], LEARNING_RATE)[0]) * len(batch)\n",
        "          train_prediction = eval_op(X_train[batch]).argmax(1)\n",
        "          train_acc += (np.array(train_prediction).flatten() == Y_train[batch]).sum()\n",
        "      train_acc_epoch_3.append(train_acc/X_train.shape[0])\n",
        "      avg_train_loss_epoch_3.append(avg_train_loss/X_train.shape[0])\n",
        "\n",
        "      # run validation\n",
        "      val_indices = np.arange(len(X_valid)) \n",
        "      np.random.shuffle(val_indices)    \n",
        "      for it in range(0, X_valid.shape[0], BATCH):\n",
        "          batch = val_indices[it:it+BATCH]\n",
        "          avg_val_loss += float(loss_function(X_valid[batch], Y_valid[batch])) * len(batch)\n",
        "          val_prediction = eval_op(X_valid[batch]).argmax(1)\n",
        "          val_acc += (np.array(val_prediction).flatten() == Y_valid[batch]).sum()\n",
        "      val_acc_epoch_3.append(val_acc/X_valid.shape[0])\n",
        "      avg_val_loss_epoch_3.append(avg_val_loss/X_valid.shape[0])\n",
        "\n",
        "      print('Epoch %04d  Training Loss %.2f Validation Loss %.2f Training Accuracy %.2f Validation Accuracy %.2f' % (epoch + 1, avg_train_loss/X_train.shape[0], avg_val_loss/X_valid.shape[0], 100*train_acc/X_train.shape[0], 100*val_acc/X_valid.shape[0]))\n",
        "\n",
        "      # since the max_patience_window is 5, the model will alow 5 epochs with no improvement before training is terminated. \n",
        "      # this means that if the validation accuracy does not improve after 5 epochs the training should terminate\n",
        "\n",
        "      if PATIENCE < (epoch+1):  # start the checker once enough epochs have completed\n",
        "          patience_val_acc_list = val_acc_epoch_3[epoch-PATIENCE: epoch+2]\n",
        "          counter = 0\n",
        "          for i in range(1, PATIENCE+1):\n",
        "            if patience_val_acc_list[i] <= patience_val_acc_list[0]:\n",
        "              counter += 1\n",
        "          if counter == PATIENCE:\n",
        "            break\n",
        "          else:\n",
        "            continue\n",
        "\n",
        "train_ES()\n"
      ],
      "execution_count": null,
      "outputs": [
        {
          "output_type": "stream",
          "name": "stdout",
          "text": [
            "Epoch 0001  Training Loss 172.72 Validation Loss 171.96 Training Accuracy 55.45 Validation Accuracy 51.94\n",
            "Epoch 0002  Training Loss 169.60 Validation Loss 165.79 Training Accuracy 59.22 Validation Accuracy 58.22\n",
            "Epoch 0003  Training Loss 162.98 Validation Loss 178.15 Training Accuracy 62.92 Validation Accuracy 55.02\n",
            "Epoch 0004  Training Loss 155.42 Validation Loss 149.72 Training Accuracy 66.31 Validation Accuracy 65.96\n",
            "Epoch 0005  Training Loss 149.27 Validation Loss 167.85 Training Accuracy 68.91 Validation Accuracy 59.02\n",
            "Epoch 0006  Training Loss 145.74 Validation Loss 136.13 Training Accuracy 71.13 Validation Accuracy 72.54\n",
            "Epoch 0007  Training Loss 141.14 Validation Loss 138.57 Training Accuracy 72.46 Validation Accuracy 72.60\n",
            "Epoch 0008  Training Loss 139.13 Validation Loss 132.03 Training Accuracy 73.55 Validation Accuracy 74.14\n",
            "Epoch 0009  Training Loss 135.86 Validation Loss 131.62 Training Accuracy 74.18 Validation Accuracy 74.46\n",
            "Epoch 0010  Training Loss 130.97 Validation Loss 128.40 Training Accuracy 75.34 Validation Accuracy 75.36\n",
            "Epoch 0011  Training Loss 129.84 Validation Loss 113.93 Training Accuracy 76.06 Validation Accuracy 78.76\n",
            "Epoch 0012  Training Loss 123.28 Validation Loss 145.83 Training Accuracy 77.31 Validation Accuracy 71.96\n",
            "Epoch 0013  Training Loss 115.10 Validation Loss 145.29 Training Accuracy 79.56 Validation Accuracy 71.58\n",
            "Epoch 0014  Training Loss 106.18 Validation Loss 95.75 Training Accuracy 81.55 Validation Accuracy 83.48\n",
            "Epoch 0015  Training Loss 98.04 Validation Loss 86.61 Training Accuracy 83.42 Validation Accuracy 85.08\n",
            "Epoch 0016  Training Loss 90.40 Validation Loss 87.34 Training Accuracy 84.93 Validation Accuracy 85.10\n",
            "Epoch 0017  Training Loss 85.75 Validation Loss 80.46 Training Accuracy 85.75 Validation Accuracy 86.62\n",
            "Epoch 0018  Training Loss 83.53 Validation Loss 80.19 Training Accuracy 86.49 Validation Accuracy 86.62\n",
            "Epoch 0019  Training Loss 79.59 Validation Loss 77.30 Training Accuracy 87.00 Validation Accuracy 87.04\n",
            "Epoch 0020  Training Loss 77.17 Validation Loss 78.31 Training Accuracy 87.53 Validation Accuracy 86.86\n"
          ]
        }
      ]
    },
    {
      "cell_type": "code",
      "source": [
        "accuracy(test_data)"
      ],
      "metadata": {
        "colab": {
          "base_uri": "https://localhost:8080/"
        },
        "id": "oHOg7YrmjnTZ",
        "outputId": "09b3e658-5913-4e48-8974-6f6378f7c7e8"
      },
      "execution_count": null,
      "outputs": [
        {
          "output_type": "execute_result",
          "data": {
            "text/plain": [
              "DeviceArray(0.86640006, dtype=float32)"
            ]
          },
          "metadata": {},
          "execution_count": 122
        }
      ]
    },
    {
      "cell_type": "code",
      "source": [
        "#Plot training vs validation accuracy for the early stopping(ES)\n",
        "plt.title(\"Train vs Validation Accuracy (ES)\")\n",
        "plt.plot(train_acc_epoch_3, label=\"Train\")\n",
        "plt.plot(val_acc_epoch_3, label=\"Validation\")\n",
        "plt.xlabel(\"Epoch\")\n",
        "plt.ylabel(\"Accuracy (%)\")\n",
        "plt.legend(loc='best')\n",
        "plt.show()"
      ],
      "metadata": {
        "colab": {
          "base_uri": "https://localhost:8080/",
          "height": 296
        },
        "id": "X53ySav3XdRZ",
        "outputId": "048ea38d-72e7-414b-962a-9f8fd60231a3"
      },
      "execution_count": null,
      "outputs": [
        {
          "output_type": "display_data",
          "data": {
            "text/plain": [
              "<Figure size 432x288 with 1 Axes>"
            ],
            "image/png": "[encoded data removed]"
          },
          "metadata": {
            "needs_background": "light"
          }
        }
      ]
    },
    {
      "cell_type": "markdown",
      "source": [
        "Given that the...\n",
        "\n",
        "training accuracy = 87.53%\n",
        "\n",
        "testing accuracy = 86.64%\n",
        "\n",
        "... the generalization gap is 0.89%\n",
        "\n",
        "*NOTE: early stopping did not occur here because the validation accuracy increased before reaching the max_patience_window. The functionality, however, was included in the model so would have worked if the conditions had been satisfied for early stopping. "
      ],
      "metadata": {
        "id": "gKstYQPQt_Nd"
      }
    },
    {
      "cell_type": "markdown",
      "metadata": {
        "id": "TMExtXBzzxRX"
      },
      "source": [
        "**Question 17**[1 points]: Report the best validation accuracy and the test accuracy of your best model.\n",
        "\n",
        "I think the third model (gru_rnn3) is the best. This optimization utilizes early stopping with SGD. I chose to use SGD (gru_rnn1) as the base for this optimization because it had a far smaller generalization gap than when using Adam (gru_rnn2).\n",
        "\n",
        "This is the best model because it has the smallest generalization gap while maintaining a high test and training accuracy. Additionally, this model would be more efficient and would prevent running too many epochs and overfitting to the training data. "
      ]
    }
  ]
}